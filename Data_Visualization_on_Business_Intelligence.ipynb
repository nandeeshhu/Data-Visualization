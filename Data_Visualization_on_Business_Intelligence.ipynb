{
  "nbformat": 4,
  "nbformat_minor": 0,
  "metadata": {
    "colab": {
      "provenance": [],
      "include_colab_link": true
    },
    "kernelspec": {
      "name": "python3",
      "display_name": "Python 3"
    },
    "language_info": {
      "name": "python"
    }
  },
  "cells": [
    {
      "cell_type": "markdown",
      "metadata": {
        "id": "view-in-github",
        "colab_type": "text"
      },
      "source": [
        "<a href=\"https://colab.research.google.com/github/nandeeshhu/Data-Visualization/blob/main/Data_Visualization_on_Business_Intelligence.ipynb\" target=\"_parent\"><img src=\"https://colab.research.google.com/assets/colab-badge.svg\" alt=\"Open In Colab\"/></a>"
      ]
    },
    {
      "cell_type": "markdown",
      "source": [
        "#E-commerce Business Insights and Visualization"
      ],
      "metadata": {
        "id": "nDvo4n-mi3q1"
      }
    },
    {
      "cell_type": "markdown",
      "source": [
        "**OUTLINE:**\n",
        "This notebook offers an in-depth analysis of sales data from an e-commerce business, comprising over half a million records across nine columns. It addresses various key questions about the business, including overall sales trends, best-selling products in different countries, monthly customer acquisition rates, and peak purchase times.\n",
        "\n",
        "Utilizing Plotly Express for interactive graphs, Seaborn for heatmaps, and Matplotlib for figure formatting, the analysis provides comprehensive insights into the business's performance. The dataset used is a refined version of the original, with cleaning procedures involving data validation, removal of duplicates, and outlier management.\n",
        "\n",
        "In summary, this notebook serves as a valuable resource for understanding the sales dynamics and strategic decision-making processes within the e-commerce domain."
      ],
      "metadata": {
        "id": "UWSoGYfpqv5Y"
      }
    },
    {
      "cell_type": "markdown",
      "source": [
        "##Importing Libraries and Data##"
      ],
      "metadata": {
        "id": "jy6GhZtZrIll"
      }
    },
    {
      "cell_type": "markdown",
      "source": [
        "Data: Th csv file named \"online_retail_cleaned.csv\" included in the google drive:\n",
        "\n",
        "Google drive link: https://drive.google.com/file/d/1tn8ud9VNBFdaWsMDeYWPPOhpO5ZdWRRe/view?usp=drive_link"
      ],
      "metadata": {
        "id": "enapXc2trNI-"
      }
    },
    {
      "cell_type": "code",
      "source": [
        "import numpy as np\n",
        "import pandas as pd\n",
        "import matplotlib.pyplot as plt\n",
        "import seaborn as sns\n",
        "import plotly.express as px\n",
        "import plotly.graph_objects as go\n",
        "from plotly.offline import init_notebook_mode, iplot\n",
        "init_notebook_mode(connected = True)\n",
        "import calendar\n",
        "from IPython.display import display\n",
        "import warnings\n",
        "warnings.filterwarnings(\"ignore\")\n"
      ],
      "metadata": {
        "id": "s5Gk4b3v15Oj"
      },
      "execution_count": null,
      "outputs": []
    },
    {
      "cell_type": "markdown",
      "source": [
        "\n",
        "The below function, configure_plotly_browser_state, is used to configure Plotly for browser-based visualization within a Jupyter Notebook environment. It imports the necessary module from IPython to display HTML content. Then, it injects a JavaScript script into the notebook's HTML output. This script configures Plotly by specifying the path to the Plotly library hosted on a CDN (Content Delivery Network), ensuring that Plotly plots are rendered correctly in the browser environment."
      ],
      "metadata": {
        "id": "Sf9b-PLPojwx"
      }
    },
    {
      "cell_type": "code",
      "source": [
        "def configure_plotly_browser_state():\n",
        "    import IPython\n",
        "    display(IPython.core.display.HTML('''\n",
        "        <script src=\"/static/components/requirejs/require.js\"></script>\n",
        "        <script>\n",
        "          requirejs.config({\n",
        "            paths: {\n",
        "              base: '/static/base',\n",
        "              plotly: 'https://cdn.plot.ly/plotly-1.58.4.min.js?noext',\n",
        "            },\n",
        "          });\n",
        "        </script>\n",
        "        '''))\n"
      ],
      "metadata": {
        "id": "5Lvzl8BqUilM"
      },
      "execution_count": null,
      "outputs": []
    },
    {
      "cell_type": "markdown",
      "source": [
        "Please add the file path inside the function pd.read_csv()"
      ],
      "metadata": {
        "id": "2UiUvXPIsQEp"
      }
    },
    {
      "cell_type": "code",
      "source": [
        "data = pd.read_csv(\"https://drive.google.com/file/d/1tn8ud9VNBFdaWsMDeYWPPOhpO5ZdWRRe/view?usp=drive_link\")"
      ],
      "metadata": {
        "id": "AUTyYyNp18hL"
      },
      "execution_count": null,
      "outputs": []
    },
    {
      "cell_type": "code",
      "source": [
        "data.shape"
      ],
      "metadata": {
        "id": "Cs_HPTRO19Ww"
      },
      "execution_count": null,
      "outputs": []
    },
    {
      "cell_type": "code",
      "source": [
        "data.info()"
      ],
      "metadata": {
        "id": "_i55lUjP1_VX"
      },
      "execution_count": null,
      "outputs": []
    },
    {
      "cell_type": "code",
      "source": [
        "data[\"InvoiceDate\"] = pd.to_datetime(data[\"InvoiceDate\"])"
      ],
      "metadata": {
        "id": "2GtMvUeM2Bn_"
      },
      "execution_count": null,
      "outputs": []
    },
    {
      "cell_type": "code",
      "source": [
        "data.isna().sum()"
      ],
      "metadata": {
        "id": "CipGj7XB2DrN"
      },
      "execution_count": null,
      "outputs": []
    },
    {
      "cell_type": "code",
      "source": [
        "data.head(10)"
      ],
      "metadata": {
        "id": "tKvnNjLZ2FlI"
      },
      "execution_count": null,
      "outputs": []
    },
    {
      "cell_type": "markdown",
      "source": [
        "#Sales Analysis and Visualization\n",
        "\n",
        "**Sales Insights for Each Country**"
      ],
      "metadata": {
        "id": "U-6bi2sQjjip"
      }
    },
    {
      "cell_type": "code",
      "source": [
        "country_sales = pd.DataFrame(data.groupby(\"Country\") \\\n",
        "[\"ItemTotal\"].sum()).reset_index().rename({\"ItemTotal\":\"TotalSales\"},axis=1)"
      ],
      "metadata": {
        "id": "HwrN4qui2HZQ"
      },
      "execution_count": null,
      "outputs": []
    },
    {
      "cell_type": "code",
      "source": [
        "import matplotlib.pyplot as plt\n",
        "\n",
        "filtered_country_sales = country_sales\n",
        "\n",
        "labels = filtered_country_sales[\"Country\"]\n",
        "sizes = filtered_country_sales[\"TotalSales\"]\n",
        "colors = px.colors.qualitative.G10\n",
        "\n",
        "plt.figure(figsize=(8, 8))\n",
        "patches, texts, autotexts = plt.pie(sizes, labels=None, colors=colors, autopct='%1.1f%%', startangle=140, textprops={'color': 'white'})\n",
        "plt.title(\"Percent of Total Sales by Country\", fontsize=20)\n",
        "\n",
        "plt.legend(labels, loc=\"center left\", bbox_to_anchor=(1, 0.5))\n",
        "\n",
        "for text in texts:\n",
        "    text.set_fontsize(10)\n",
        "    text.set_color('white')\n",
        "\n",
        "plt.axis('equal')\n",
        "plt.tight_layout()\n",
        "plt.show()\n"
      ],
      "metadata": {
        "id": "ZzahVmS7A91q"
      },
      "execution_count": null,
      "outputs": []
    },
    {
      "cell_type": "markdown",
      "source": [
        "United Kingdom is the largest contributor to total sales, accounting for 85.6% of the total.\n",
        "No other country contributes more than 5% of total sales.\n",
        "Sales from 29 countries are listed on the pie chart. Unspecified countries account for neglegible no of total sales.\n",
        "\n",
        "To visualize the distribution of total sales across countries excluding the UK, we'll create a map where each country's sales figure is represented. This will provide a clear picture of the relative contribution of each country to the total sales, excluding the UK, which has a predominant share.\n",
        "\n",
        "This approach allows us to focus on the sales distribution among other countries without the UK's data skewing the scale. By plotting the sales figures on a map, we can easily identify the contribution of each country to the total sales."
      ],
      "metadata": {
        "id": "PpO7GqsXauv8"
      }
    },
    {
      "cell_type": "code",
      "source": [
        "import matplotlib.pyplot as plt\n",
        "\n",
        "filtered_country_sales = country_sales[country_sales[\"Country\"] != \"United Kingdom\"]\n",
        "\n",
        "labels = filtered_country_sales[\"Country\"]\n",
        "sizes = filtered_country_sales[\"TotalSales\"]\n",
        "colors = px.colors.qualitative.G10\n",
        "\n",
        "plt.figure(figsize=(8, 8))\n",
        "plt.pie(sizes, labels=None, colors=colors, autopct='%1.1f%%', startangle=140, textprops={'color': 'white'})\n",
        "plt.title(\"Percent of Total Sales by Country (Excluding United Kingdom)\", fontsize=20)\n",
        "plt.legend(labels, loc=\"center left\", bbox_to_anchor=(1, 0.5))\n",
        "plt.axis('equal')\n",
        "plt.show()\n"
      ],
      "metadata": {
        "id": "cHwGf-z0_yV6"
      },
      "execution_count": null,
      "outputs": []
    },
    {
      "cell_type": "markdown",
      "source": [],
      "metadata": {
        "id": "6HLk3UUPbeZU"
      }
    },
    {
      "cell_type": "markdown",
      "source": [
        "The pie chart shows the percent of total sales by country for a company, excluding the United Kingdom."
      ],
      "metadata": {
        "id": "yQeJcn3SGQvv"
      }
    },
    {
      "cell_type": "code",
      "source": [
        "import matplotlib.pyplot as plt\n",
        "\n",
        "filtered_country_sales = country_sales[country_sales[\"Country\"] != \"United Kingdom\"]\n",
        "\n",
        "labels = filtered_country_sales[\"Country\"]\n",
        "sizes = filtered_country_sales[\"TotalSales\"]\n",
        "colors = px.colors.qualitative.G10\n",
        "\n",
        "plt.figure(figsize=(10, 6))\n",
        "plt.bar(labels, sizes, color=colors)\n",
        "plt.title(\"Total Sales by Country (Excluding United Kingdom)\", fontsize=20)\n",
        "plt.xlabel(\"Country\", fontsize=14)\n",
        "plt.ylabel(\"Total Sales\", fontsize=14)\n",
        "plt.xticks(rotation=45, ha=\"right\")\n",
        "plt.grid(axis='y', linestyle='--', alpha=0.7)\n",
        "plt.tight_layout()\n",
        "plt.show()\n"
      ],
      "metadata": {
        "id": "rIi4iDhcAn9Q"
      },
      "execution_count": null,
      "outputs": []
    },
    {
      "cell_type": "markdown",
      "source": [
        "The y-axis shows total sales.\n",
        "The x-axis shows the countries. There are many countries listed, but some labels are cut off.\n",
        "It appears that Germany is the country with the highest total sales, followed by the United States (USA) and then Japan. However, it is difficult to be certain because the scale is not labeled.\n",
        "The total sales for many countries appear to be relatively low."
      ],
      "metadata": {
        "id": "Q1ksLzavcRcG"
      }
    },
    {
      "cell_type": "code",
      "source": [
        "filtered_country_sales = country_sales[country_sales[\"Country\"] \\\n",
        ".isin([\"Unspecified\", \"European Community\",\"United Kingdom\"]) == False]"
      ],
      "metadata": {
        "id": "_JZEc_3t2K2a"
      },
      "execution_count": null,
      "outputs": []
    },
    {
      "cell_type": "code",
      "source": [
        "\n",
        "filtered_country_sales[\"Country\"] = \\\n",
        "filtered_country_sales[\"Country\"].replace({\"EIRE\": \"Ireland\",\n",
        "                                  \"Channel Islands\": \"United Kingdom\",\n",
        "                                  \"RSA\": \"South Africa\"})"
      ],
      "metadata": {
        "id": "7RSvUQBH2Orb"
      },
      "execution_count": null,
      "outputs": []
    },
    {
      "cell_type": "markdown",
      "source": [
        "Please note that the map presented below offers interactivity, allowing you to zoom in and out effortlessly. Additionally, you can hover over different countries to reveal their respective sales figures."
      ],
      "metadata": {
        "id": "unikFoEbj6Ou"
      }
    },
    {
      "cell_type": "code",
      "source": [
        "choro_data = dict(\n",
        "                  type = \"choropleth\",\n",
        "                  colorscale = \"Agsunset\",\n",
        "                  locations = country_sales[\"Country\"],\n",
        "                  locationmode = \"country names\",\n",
        "                  z = country_sales[\"TotalSales\"].astype(float).round(0).tolist(),\n",
        "                  hovertext = country_sales[\"Country\"],\n",
        "                  hovertemplate = \"%{hovertext}: £%{z:,.0f} <extra></extra>\",\n",
        "                  colorbar = {\"title\" : \"Total Sales\", },\n",
        "                )\n",
        "layout = dict(\n",
        "              title = \"Total Sales By Country\",\n",
        "              titlefont = dict(size = 20),\n",
        "              geo = dict(showframe = False, bgcolor = \"#BAEAED\",),\n",
        "              margin={\"r\":0,\"t\":50,\"l\":10,\"b\":0}\n",
        "             )\n",
        "\n",
        "\n",
        "\n",
        "configure_plotly_browser_state()\n",
        "fig = go.Figure(data=choro_data, layout=layout)\n",
        "iplot(fig)"
      ],
      "metadata": {
        "id": "BdRf4EExWSUX"
      },
      "execution_count": null,
      "outputs": []
    },
    {
      "cell_type": "markdown",
      "source": [
        "The choropleth map provides a visual representation of total sales by country, offering several insights:\n",
        "\n",
        "Sales Distribution: The map highlights the distribution of sales across various countries, with darker shades indicating higher sales volumes and lighter shades representing lower sales.\n",
        "\n",
        "Key Contributors: Countries with darker shades on the map are key contributors to total sales. These nations play a significant role in generating revenue for the business.\n",
        "\n",
        "Regional Disparities: Disparities in sales between different regions or countries are evident from the varying color intensities on the map. This insight can help identify regions where sales efforts may need to be intensified or optimized.\n",
        "\n",
        "Geographic Trends: Geographical patterns in sales distribution may emerge from the map. For example, certain regions or continents may consistently exhibit higher sales figures compared to others, indicating market preferences or economic factors at play.\n",
        "\n",
        "Potential Opportunities: Areas with lighter shades may represent untapped or underexplored markets. Identifying these regions can guide strategic decision-making, such as market expansion efforts or targeted marketing campaigns to capitalize on potential opportunities.\n",
        "\n",
        "Comparative Analysis: The map allows for easy comparison between different countries' sales performance. By visually assessing the color intensities, stakeholders can quickly identify which countries contribute the most to total sales and how they compare relative to one another."
      ],
      "metadata": {
        "id": "8gFrXN1rdzxO"
      }
    },
    {
      "cell_type": "code",
      "source": [
        "choro_data = dict(\n",
        "                  type = \"choropleth\",\n",
        "                  colorscale = \"Agsunset\",\n",
        "                  locations = country_sales[\"Country\"],\n",
        "                  locationmode = \"country names\",\n",
        "                  z = filtered_country_sales[\"TotalSales\"].astype(float).round(0).tolist(),\n",
        "                  hovertext = country_sales[\"Country\"],\n",
        "                  hovertemplate = \"%{hovertext}: £%{z:,.0f} <extra></extra>\",\n",
        "                  colorbar = {\"title\" : \"Total Sales\", },\n",
        "                )\n",
        "\n",
        "layout = dict(\n",
        "              title = \"Total Sales By Country Excluding the UK\",\n",
        "              titlefont = dict(size = 20),\n",
        "              geo = dict(showframe = False, bgcolor = \"#BAEAED\",),\n",
        "              margin={\"r\":0,\"t\":50,\"l\":10,\"b\":0}\n",
        "             )\n",
        "configure_plotly_browser_state()\n",
        "fig = go.Figure(data=choro_data, layout=layout)\n",
        "fig.update_traces(visible = True)\n",
        "iplot(fig)"
      ],
      "metadata": {
        "id": "VtaMH5SB9OPD"
      },
      "execution_count": null,
      "outputs": []
    },
    {
      "cell_type": "code",
      "source": [
        "choro_data = [dict(\n",
        "                  type = \"choropleth\",\n",
        "                  colorscale = \"Agsunset\",\n",
        "                  locations = country_sales[\"Country\"],\n",
        "                  locationmode = \"country names\",\n",
        "                  z = country_sales[\"TotalSales\"].astype(float).round(0).tolist(),\n",
        "                  hovertext = country_sales[\"Country\"],\n",
        "                  hovertemplate = \"%{hovertext}: £%{z:,.0f} <extra></extra>\",\n",
        "                  colorbar = {\"title\" : \"Total Sales\", },\n",
        "                 ),\n",
        "              dict(\n",
        "                  type = \"scattergeo\",\n",
        "                  locations = country_sales[\"Country\"],\n",
        "                  locationmode = \"country names\",\n",
        "                  text = country_sales[\"Country\"],\n",
        "                  hoverinfo = \"skip\",\n",
        "                  mode = \"text\",\n",
        "                  textfont=dict(\n",
        "                                size = 11,\n",
        "                                color = \"white\",\n",
        "                                family = \"Arial\"\n",
        "                               )\n",
        "                  )\n",
        "            ]\n",
        "layout = dict(\n",
        "              title = \"Total Sales By Country Excluding the UK\",\n",
        "              titlefont = dict(size = 20),\n",
        "              geo = dict(\n",
        "                         showframe = False,\n",
        "                         bgcolor = \"#A4E0E4\",\n",
        "                         projection = dict(scale = 4.5),\n",
        "                         center = dict(lat = 47, lon = 5)\n",
        "                         ),\n",
        "              margin={\"r\":0,\"t\":50,\"l\":10,\"b\":0}\n",
        "             )\n",
        "configure_plotly_browser_state()\n",
        "fig = go.Figure(data = choro_data, layout = layout)\n",
        "iplot(fig)"
      ],
      "metadata": {
        "id": "-iurbmX72Xp8"
      },
      "execution_count": null,
      "outputs": []
    },
    {
      "cell_type": "markdown",
      "source": [
        "The visualization presents a choropleth map showing the distribution of total sales across different countries, excluding the UK. Each country is represented by a shaded region, with the color intensity indicating the corresponding total sales figure. Darker shades signify higher sales values, while lighter shades represent lower sales.\n",
        "\n",
        "Additionally, the map includes country labels for reference, displayed using the scattergeo trace. However, these labels do not appear when hovering over the map to avoid clutter and ensure a cleaner visualization.\n",
        "\n",
        "Overall, this visualization offers a clear overview of how total sales are distributed among various countries, enabling easy comparison and identification of key contributors to sales outside the UK."
      ],
      "metadata": {
        "id": "BSo-st4Tdnqi"
      }
    },
    {
      "cell_type": "markdown",
      "source": [
        "#Overall Sales Trend"
      ],
      "metadata": {
        "id": "YGA9xQ-MkPWh"
      }
    },
    {
      "cell_type": "code",
      "source": [
        "print(\"first date: \", data[\"InvoiceDate\"].min(),\"\\n\", \"last date: \", data[\"InvoiceDate\"].max())"
      ],
      "metadata": {
        "id": "DEPikVfM2guq"
      },
      "execution_count": null,
      "outputs": []
    },
    {
      "cell_type": "code",
      "source": [
        "data[\"year\"], data[\"month\"] = data[\"InvoiceDate\"].dt.year, data[\"InvoiceDate\"].dt.month"
      ],
      "metadata": {
        "id": "jR2kIaA52jk8"
      },
      "execution_count": null,
      "outputs": []
    },
    {
      "cell_type": "code",
      "source": [
        "sales = data.groupby([\"year\",\"month\"])[\"ItemTotal\"].sum() \\\n",
        ".reset_index().rename({\"ItemTotal\":\"TotalSales\"},axis=1)\n",
        "\n",
        "sales"
      ],
      "metadata": {
        "id": "4bk7T0MF2ll3"
      },
      "execution_count": null,
      "outputs": []
    },
    {
      "cell_type": "code",
      "source": [
        "sales[\"year\"] = sales['year'].astype(int)"
      ],
      "metadata": {
        "id": "wNXUiTeQJfCA"
      },
      "execution_count": null,
      "outputs": []
    },
    {
      "cell_type": "code",
      "source": [
        "new_rows = pd.DataFrame({\"year\":[2010,2010],\n",
        "                         \"month\": [4,11],\n",
        "                         \"TotalSales\": [38123.21,184980.04]},\n",
        "                         index = [98,99])\n",
        "\n",
        "sales = pd.concat([new_rows, sales]) \\\n",
        ".sort_values(by=[\"year\",\"month\"]).reset_index(drop=True)"
      ],
      "metadata": {
        "id": "Uik8gU6i2nNM"
      },
      "execution_count": null,
      "outputs": []
    },
    {
      "cell_type": "code",
      "source": [
        "sales[\"month\"] = sales[\"month\"].apply(lambda x: calendar.month_abbr[int(x)])\n",
        "\n",
        "sales[\"month\"] = sales[\"month\"].astype(str) + \" \" + sales[\"year\"].astype(str)\n",
        "\n",
        "sales = sales.drop(\"year\", axis = 1)\n",
        "\n",
        "sales = sales[0:23]"
      ],
      "metadata": {
        "id": "LhuAdGAl2p6f"
      },
      "execution_count": null,
      "outputs": []
    },
    {
      "cell_type": "code",
      "source": [
        "import matplotlib.pyplot as plt\n",
        "\n",
        "plt.figure(figsize=(10, 6))\n",
        "plt.plot(sales[\"month\"], sales[\"TotalSales\"], marker='o', color='purple', linestyle='-', linewidth=2, markersize=8)\n",
        "plt.title(\"Total Sales by Month\", fontsize=20)\n",
        "plt.xlabel(\"Month\", fontsize=14)\n",
        "plt.ylabel(\"Total Sales (£)\", fontsize=14)\n",
        "plt.grid(True)\n",
        "\n",
        "plt.xticks(rotation=270)\n",
        "\n",
        "plt.tight_layout()\n",
        "plt.show()\n"
      ],
      "metadata": {
        "id": "633Vql0zHkop"
      },
      "execution_count": null,
      "outputs": []
    },
    {
      "cell_type": "markdown",
      "source": [
        "The x-axis shows month, ranging from January 2010 to November 2011. The y-axis shows total sales in pounds (£). There are grid lines on the chart to help estimate the value.\n",
        "\n",
        "Here are some observations about the plot:\n",
        "\n",
        "Total sales appear to have decreased over time. Sales were highest in November 2010 at around £800,000 and then steadily decreased to around £100,000 in November 2011.\n",
        "It is difficult to say for certain why total sales decreased over time. There could be a number of reasons, such as seasonality, economic factors, or changes in marketing strategies."
      ],
      "metadata": {
        "id": "S5R6MIoQeQX3"
      }
    },
    {
      "cell_type": "code",
      "source": [
        "len(data[\"InvoiceNo\"].unique())"
      ],
      "metadata": {
        "id": "viSo2ACT217G"
      },
      "execution_count": null,
      "outputs": []
    },
    {
      "cell_type": "markdown",
      "source": [
        "**Visualizing the missing values in the Data**"
      ],
      "metadata": {
        "id": "2Ma6wSgnkwjy"
      }
    },
    {
      "cell_type": "code",
      "source": [
        "import missingno as msno\n",
        "\n",
        "msno.matrix(data, figsize=(10, 6))\n",
        "plt.title(\"Missing Values in Data\")\n",
        "plt.show()\n",
        "\n"
      ],
      "metadata": {
        "id": "RBBkQkXuL1_z"
      },
      "execution_count": null,
      "outputs": []
    },
    {
      "cell_type": "markdown",
      "source": [
        "\n",
        "There are missing values in several columns, including InvoiceNo, StockCode, Description, Quantity, InvoiceDate, UnitPrice, CustomerID, Country, Item Total, year, and month.\n",
        "It is not possible to tell from this table how many rows or columns contain missing data.\n",
        "We don't know why the data is missing. There could be a number of reasons, such as data entry errors, equipment failures, or participants who refused to answer questions."
      ],
      "metadata": {
        "id": "Yevcf6CTeiiI"
      }
    },
    {
      "cell_type": "markdown",
      "source": [
        "invoices having all of their CustomerIDs missing"
      ],
      "metadata": {
        "id": "f5J4G_GTeid9"
      }
    },
    {
      "cell_type": "code",
      "source": [
        "len(data[data[\"CustomerID\"].isna()][\"InvoiceNo\"].unique())"
      ],
      "metadata": {
        "id": "eLrP39h_2396"
      },
      "execution_count": null,
      "outputs": []
    },
    {
      "cell_type": "code",
      "source": [
        "data.groupby(\"InvoiceNo\").apply(lambda x: all(np.isnan(i) for i in x[\"CustomerID\"])).tolist().count(True)"
      ],
      "metadata": {
        "id": "QrZh5qVx27M3"
      },
      "execution_count": null,
      "outputs": []
    },
    {
      "cell_type": "markdown",
      "source": [
        "Since all invoices have the same number, it implies that either all CustomerIDs are missing for those invoices, or none of the CustomerIDs are missing.\n",
        "\n",
        "Given this, we'll exclude records with missing CustomerIDs from our analysis, as we don't have information on how many customers are associated with those NaN values."
      ],
      "metadata": {
        "id": "-I86Bd3elHHB"
      }
    },
    {
      "cell_type": "code",
      "source": [
        "customers = data[data[\"CustomerID\"].notna()].groupby([\"year\", \"month\"]) \\\n",
        ".agg({\"CustomerID\": \"unique\"}) \\\n",
        ".reset_index().rename({\"CustomerID\": \"unique_customer_ids\"}, axis = 1)\n",
        "\n",
        "customers.insert(2,\"unique_customers_this_month\", customers[\"unique_customer_ids\"].str.len())\n",
        "\n",
        "customers.head()"
      ],
      "metadata": {
        "id": "XYNk-jlh3Buo"
      },
      "execution_count": null,
      "outputs": []
    },
    {
      "cell_type": "markdown",
      "source": [
        "To identify new customers, we can create a running list of all unique CustomerIDs up to each month. By removing duplicates and counting the length of the list for each month, we can determine the number of new customers added in that month. This approach gives us a running total of unique customers over time."
      ],
      "metadata": {
        "id": "tIbQG8vDlRur"
      }
    },
    {
      "cell_type": "code",
      "source": [
        "ids = []\n",
        "\n",
        "for index, row in customers.iterrows():\n",
        "    if index == 0:\n",
        "        ids.append(row[\"unique_customer_ids\"].tolist())\n",
        "\n",
        "    else:\n",
        "        ids.append(row[\"unique_customer_ids\"].tolist() + ids[index-1])"
      ],
      "metadata": {
        "id": "j2PNB5Sh3Cbc"
      },
      "execution_count": null,
      "outputs": []
    },
    {
      "cell_type": "code",
      "source": [
        "total_customers = []\n",
        "for i in range(len(ids)):\n",
        "    total_customers.append(len(set(ids[i])))\n",
        "customers.insert(3, \"total_customers\", total_customers)"
      ],
      "metadata": {
        "id": "kjuZTcid3E0t"
      },
      "execution_count": null,
      "outputs": []
    },
    {
      "cell_type": "code",
      "source": [
        "customers.insert(3, \"new_customers_this_month\", customers[\"total_customers\"].diff() \\\n",
        ".replace({np.nan: 98}).astype(int))\n"
      ],
      "metadata": {
        "id": "2qSjQpjM3Gli"
      },
      "execution_count": null,
      "outputs": []
    },
    {
      "cell_type": "code",
      "source": [
        "customers = customers.drop(\"unique_customer_ids\", axis = 1)"
      ],
      "metadata": {
        "id": "vdBOduZP3J63"
      },
      "execution_count": null,
      "outputs": []
    },
    {
      "cell_type": "code",
      "source": [
        "new_rows = \\\n",
        "pd.DataFrame({\"year\":[2010,2010],\n",
        "              \"month\": [4,11],\n",
        "              \"unique_customers_this_month\": [65,271],\n",
        "              \"new_customers_this_month\": [59,163],\n",
        "              \"total_customers\": [288,803]}, index = [98,99])\n",
        "\n",
        "customers = pd.concat([new_rows, customers]) \\\n",
        ".sort_values(by=[\"year\",\"month\"]).reset_index(drop=True)"
      ],
      "metadata": {
        "id": "uMXAarIg3NQK"
      },
      "execution_count": null,
      "outputs": []
    },
    {
      "cell_type": "code",
      "source": [
        "customers[\"month\"] = customers[\"month\"].apply(lambda x: calendar.month_abbr[int(x)])\n",
        "\n",
        "customers[\"month\"] = customers[\"month\"].astype(str) + \" \" + customers[\"year\"].astype(str)\n",
        "\n",
        "customers = customers.drop(\"year\", axis = 1)\n",
        "\n",
        "customers = customers[0:23]"
      ],
      "metadata": {
        "id": "ZCqeQ8Wu3Q50"
      },
      "execution_count": null,
      "outputs": []
    },
    {
      "cell_type": "code",
      "source": [
        "import matplotlib.pyplot as plt\n",
        "\n",
        "plt.figure(figsize=(10, 6))\n",
        "plt.plot(customers[\"month\"], customers[\"unique_customers_this_month\"], marker='o', color='#0E79B2', linestyle='-', linewidth=2, markersize=8, label='Unique Customers This Month')\n",
        "plt.plot(customers[\"month\"], customers[\"new_customers_this_month\"], marker='o', color='red', linestyle='-', linewidth=2, markersize=8, label='New Customers This Month')\n",
        "plt.title(\"Customers by Month\", fontsize=20)\n",
        "plt.xlabel(\"Month\", fontsize=14)\n",
        "plt.ylabel(\"Number of Customers\", fontsize=14)\n",
        "plt.legend(fontsize=12, loc='upper left')\n",
        "plt.grid(True)\n",
        "plt.tight_layout()\n",
        "plt.xticks(rotation=270)\n",
        "plt.show()\n"
      ],
      "metadata": {
        "id": "BlsRTqz6OQqT"
      },
      "execution_count": null,
      "outputs": []
    },
    {
      "cell_type": "markdown",
      "source": [],
      "metadata": {
        "id": "6d7KZ6y7liFr"
      }
    },
    {
      "cell_type": "markdown",
      "source": [
        "After analyzing the data, we observe a notable increase in new customers around December 2010 and January 2011, likely due to the Christmas holidays. This could be attributed to marketing campaigns or seasonal promotions during that period. Following this spike, the number of customers per month shows a steady increase, indicating sustained growth in customer base.\n",
        "\n",
        "Another noteworthy observation is the surge in customers in November 2011, despite no significant increase in new customers during that time. This pattern suggests that customers who made purchases during the Christmas season in 2010 were satisfied and returned for their 2011 holiday shopping, contributing to the overall customer growth.\n",
        "\n",
        "However, it's worth noting that the number of new customers has been gradually decreasing over time. This decline could be indicative of various factors, including changes in marketing strategies or shifts in customer behavior. Further investigation into marketing campaigns and customer retention efforts may provide valuable insights into this trend.\n"
      ],
      "metadata": {
        "id": "eXFylkn5e0lK"
      }
    },
    {
      "cell_type": "code",
      "source": [
        "import matplotlib.pyplot as plt\n",
        "\n",
        "plt.figure(figsize=(10, 6))\n",
        "plt.plot(customers[\"month\"], customers[\"unique_customers_this_month\"], marker='o', color='#0E79B2', linestyle='-', linewidth=2, markersize=8, label='Unique Customers This Month')\n",
        "plt.plot(customers[\"month\"], customers[\"new_customers_this_month\"], marker='o', color='red', linestyle='-', linewidth=2, markersize=8, label='New Customers This Month')\n",
        "plt.plot(customers[\"month\"], customers[\"total_customers\"], marker='o', color='orange', linestyle='-', linewidth=2, markersize=8, label='Total Customers')\n",
        "plt.title(\"Customers by Month\", fontsize=20)\n",
        "plt.xlabel(\"Month\", fontsize=14)\n",
        "plt.ylabel(\"Number of Customers\", fontsize=14)\n",
        "plt.legend(fontsize=12, loc='upper left')\n",
        "plt.grid(True)\n",
        "plt.tight_layout()\n",
        "plt.xticks(rotation=270)\n",
        "plt.show()\n"
      ],
      "metadata": {
        "id": "xBelhspT3W8b"
      },
      "execution_count": null,
      "outputs": []
    },
    {
      "cell_type": "markdown",
      "source": [
        "Customer Segmentation: The graph showcases three distinct lines, each representing a different customer segment:\n",
        "\n",
        "Blue line: This line depicts the trend in unique customers, representing the total number of individual customers who have made a purchase during the specified timeframe.\n",
        "Red line: This line signifies new customers, indicating the number of first-time buyers each month.\n",
        "Yellow line: This line represents the total customers (unique + new).\n",
        "Customer Acquisition Trends: By analyzing the red line (new customers), we can observe the company's customer acquisition strategy. There might be a seasonal pattern, with a peak in new customers in December of both years. This could be attributed to holiday promotions or increased marketing efforts during these peak shopping seasons.  However, it's important to consider the y-axis scale to determine the significance of these fluctuations.\n",
        "\n",
        "Customer Retention Trends: The blue line (unique customers) offers valuable insights into customer retention. Generally, a blue line consistently above the red line suggests the business is retaining a larger portion of its existing customer base compared to acquiring new ones. This could indicate successful customer service initiatives or loyalty programs that encourage repeat purchases.\n",
        "\n",
        "Overall Customer Growth:  We can assess the overall customer growth of the business by looking at the yellow line (total customers). Ideally, this line should show an upward trend, suggesting a growing customer base. If the yellow line is consistently increasing, it's a positive sign, indicating the company is attracting new customers while retaining existing ones."
      ],
      "metadata": {
        "id": "rDqNdjnef6Yq"
      }
    },
    {
      "cell_type": "markdown",
      "source": [
        "#Season during where Customers Make the Most Purchases#\n",
        "\n",
        "To identify the optimal time of day for targeting marketing campaigns, we analyze the purchasing patterns during peak holiday seasons. Specifically, we examine the time of day when customers made the most purchases in December 2010, as well as the most common purchasing hours in October, November, and the available days of December 2011.\n",
        "\n",
        "By comparing these timeframes, we can pinpoint the recurring patterns and determine the hours when customers are most active in making purchases. This insight will help in strategizing marketing campaigns to maximize engagement and sales during the upcoming holiday season."
      ],
      "metadata": {
        "id": "Ht42rkE0l-7G"
      }
    },
    {
      "cell_type": "code",
      "source": [
        "subset = data[\n",
        "              ((data[\"year\"] == 2010) & (data[\"month\"] == 12))\n",
        "              |\n",
        "              ((data[\"year\"] == 2011) & (data[\"month\"] == 10))\n",
        "              |\n",
        "              ((data[\"year\"] == 2011) & (data[\"month\"] == 11))\n",
        "              |\n",
        "              ((data[\"year\"] == 2011) & (data[\"month\"] == 12))\n",
        "              ]"
      ],
      "metadata": {
        "id": "zsvZ9qk03cFa"
      },
      "execution_count": null,
      "outputs": []
    },
    {
      "cell_type": "code",
      "source": [
        "subset[\"hour\"] = subset[\"InvoiceDate\"].astype(str).str[11:13].astype(int)"
      ],
      "metadata": {
        "id": "WD9gKSWF3edX"
      },
      "execution_count": null,
      "outputs": []
    },
    {
      "cell_type": "code",
      "source": [
        "frequency = subset.groupby([\"year\",\"month\",\"hour\"]) \\\n",
        ".agg({\"InvoiceNo\":\"nunique\"}).reset_index() \\\n",
        ".rename({\"InvoiceNo\": \"num_orders\"}, axis = 1)\n",
        "\n",
        "frequency.head()"
      ],
      "metadata": {
        "id": "pthlqpYO3gXR"
      },
      "execution_count": null,
      "outputs": []
    },
    {
      "cell_type": "code",
      "source": [
        "pivot = frequency.pivot(index = \"hour\", columns = [\"year\",\"month\"], values = [\"num_orders\"])\n",
        "\n",
        "pivot = pd.DataFrame(pivot.to_records())\n",
        "\n",
        "pivot[\"hour\"] = pivot[\"hour\"].astype(str) + \":00\"\n",
        "\n",
        "pivot = pivot.set_index(\"hour\")\n",
        "\n",
        "pivot.index.name = \"\"\n",
        "\n",
        "pivot.rename(columns={\n",
        "                      pivot.columns[0]:\"Dec 2010\",\n",
        "                      pivot.columns[1]:\"Oct 2011\",\n",
        "                      pivot.columns[2]:\"Nov 2011\",\n",
        "                      pivot.columns[3]:\"Dec 2011\"\n",
        "                      }, inplace = True)\n",
        "\n",
        "pivot"
      ],
      "metadata": {
        "id": "BpMIKA4k3jw0"
      },
      "execution_count": null,
      "outputs": []
    },
    {
      "cell_type": "code",
      "source": [
        "fig, axs = plt.subplots(4,1, figsize = (9,2.7))\n",
        "cbar_ax = fig.add_axes([0.92, .10, .03, .8])\n",
        "\n",
        "sns.heatmap(pd.DataFrame(pivot[\"Dec 2010\"]).T, ax = axs[0], cbar = False)\n",
        "sns.heatmap(pd.DataFrame(pivot[\"Oct 2011\"]).T, ax = axs[1], cbar_ax = cbar_ax, xticklabels=False)\n",
        "sns.heatmap(pd.DataFrame(pivot[\"Nov 2011\"]).T, ax = axs[2], cbar = False, xticklabels=False)\n",
        "sns.heatmap(pd.DataFrame(pivot[\"Dec 2011\"]).T, ax = axs[3], cbar = False, xticklabels=False)\n",
        "\n",
        "cbar = axs[1].collections[0].colorbar\n",
        "cbar.set_ticks([30, 190, 350])\n",
        "cbar.set_ticklabels([\"low\", \"medium\", \"high\"])\n",
        "\n",
        "axs[0].xaxis.set_ticks_position(\"top\")\n",
        "axs[0].yaxis.set_ticklabels(axs[0].get_yticklabels(), rotation = 0)\n",
        "axs[1].yaxis.set_ticklabels(axs[1].get_yticklabels(), rotation = 0)\n",
        "axs[2].yaxis.set_ticklabels(axs[2].get_yticklabels(), rotation = 0)\n",
        "axs[3].yaxis.set_ticklabels(axs[3].get_yticklabels(), rotation = 0)\n",
        "\n",
        "fig.suptitle(\"Total Number of Orders for Each Hour of the Day\", y = 1.10)\n",
        "plt.show()"
      ],
      "metadata": {
        "id": "a2uC7WA23nmS"
      },
      "execution_count": null,
      "outputs": []
    },
    {
      "cell_type": "markdown",
      "source": [
        "The x-axis shows the hour of the day, ranging from 7:00 AM to 8:00 PM. It appears that some hours are missing labels, specifically between 4:00 PM and 7:00 PM.\n",
        "The y-axis shows the total number of orders.\n",
        "There appear to be two peaks in the number of orders. The first peak occurs around 11:00 AM and the second peak occurs around 2:00 PM. It is difficult to say for certain what causes these peaks without additional information.\n",
        "\n",
        "The text at the top of the graph indicates that the data is for December 2010.\n",
        "There are three color-coded sections along the x-axis, labeled \"low,\" \"medium,\" and \"high.\" However, it is not clear what these colors correspond to in terms of the number of orders.\n",
        "\n",
        "\n"
      ],
      "metadata": {
        "id": "cT6mqCwRg0Hn"
      }
    },
    {
      "cell_type": "code",
      "source": [
        "pivot.replace(np.nan,0).style\\\n",
        ".background_gradient(cmap=\"rocket\", subset=[\"Dec 2010\"])\\\n",
        ".background_gradient(cmap=\"rocket\", subset=[\"Oct 2011\"])\\\n",
        ".background_gradient(cmap=\"rocket\", subset=[\"Nov 2011\"])\\\n",
        ".background_gradient(cmap=\"rocket\", subset=[\"Dec 2011\"])\\\n",
        ".format(\"{:.0f}\")"
      ],
      "metadata": {
        "id": "-yR6yvl53sFB"
      },
      "execution_count": null,
      "outputs": []
    },
    {
      "cell_type": "markdown",
      "source": [
        "The x-axis shows the month, ranging from December 2019 to November 2020.\n",
        "The y-axis shows the total sales in dollars ($).\n",
        "\n",
        "There appears to be a seasonal trend in sales, with a peak in December 2019 (around 800,000) and a low point in July 2020 (around $200,000). This could be due to factors such as holidays, weather patterns, or back-to-school sales.\n",
        "\n",
        "Overall, sales appear to have increased over the past year."
      ],
      "metadata": {
        "id": "Kyhm7GbZhWVH"
      }
    },
    {
      "cell_type": "markdown",
      "source": [
        "Indeed, the data shows a consistent trend of peak order placements around midday, particularly at 12:00. This suggests that targeting marketing campaigns during this timeframe could yield optimal results in terms of customer engagement and conversions. By aligning promotional activities with the times when customers are most active, the marketing team can effectively capitalize on these peak periods to drive sales and enhance overall business performance."
      ],
      "metadata": {
        "id": "wSA8TorqmdLV"
      }
    },
    {
      "cell_type": "code",
      "source": [
        "sales_countr_descr = data.groupby([\"Country\", \"Description\"]) \\\n",
        ".agg({\"ItemTotal\": \"sum\"}) \\\n",
        ".rename({\"ItemTotal\":\"TotalSales\"},axis=1).reset_index()\n",
        "\n",
        "sales_countr_descr"
      ],
      "metadata": {
        "id": "Nh7g7pQb3uj8"
      },
      "execution_count": null,
      "outputs": []
    },
    {
      "cell_type": "code",
      "source": [
        "max_sales = pd.DataFrame(sales_countr_descr.groupby(\"Country\") \\\n",
        "[\"TotalSales\"].max().reset_index()) \\\n",
        ".rename({\"TotalSales\":\"Best_Product_Total_Sales\"},axis=1)\n",
        "\n",
        "max_sales.head()"
      ],
      "metadata": {
        "id": "wiRrIr7P3yn2"
      },
      "execution_count": null,
      "outputs": []
    },
    {
      "cell_type": "code",
      "source": [
        "joined_df = sales_countr_descr.merge(max_sales, on = \"Country\", how = \"left\")\n",
        "joined_df"
      ],
      "metadata": {
        "id": "Uiqdyso931Ui"
      },
      "execution_count": null,
      "outputs": []
    },
    {
      "cell_type": "code",
      "source": [
        "joined_df = joined_df[joined_df[\"TotalSales\"] == joined_df[\"Best_Product_Total_Sales\"]]\n",
        "joined_df.head()"
      ],
      "metadata": {
        "id": "d4EIkxBH33Qr"
      },
      "execution_count": null,
      "outputs": []
    },
    {
      "cell_type": "markdown",
      "source": [
        "To find the percentage of total sales generated by each product in each country, we first need to calculate the total sales for each country. Then, we can join this information with the table containing product sales data. The resulting table will show the percentage of total sales that each product contributes to the overall sales in each country. This analysis will provide valuable insights into the sales distribution of products across different regions."
      ],
      "metadata": {
        "id": "MNmUaF62mp7S"
      }
    },
    {
      "cell_type": "code",
      "source": [
        "joined_df = joined_df.drop(\"Best_Product_Total_Sales\", axis = 1)"
      ],
      "metadata": {
        "id": "Ft45y2LZ35ZM"
      },
      "execution_count": null,
      "outputs": []
    },
    {
      "cell_type": "code",
      "source": [
        "country_sales = pd.DataFrame(data.groupby(\"Country\")[\"ItemTotal\"].sum()) \\\n",
        ".reset_index().rename({\"ItemTotal\":\"Country_Total_Sales\"}, axis = 1)\n",
        "\n",
        "country_sales.head()"
      ],
      "metadata": {
        "id": "BslH-6FX38zK"
      },
      "execution_count": null,
      "outputs": []
    },
    {
      "cell_type": "code",
      "source": [
        "joined_df = joined_df.merge(country_sales, on = \"Country\", how = \"inner\") \\\n",
        ".rename({\"Description\":\"Best_Selling_Product\"}, axis = 1)\n",
        "\n",
        "joined_df.head()"
      ],
      "metadata": {
        "id": "iXOM8fyD39aZ"
      },
      "execution_count": null,
      "outputs": []
    },
    {
      "cell_type": "markdown",
      "source": [
        "We'll create an additional column that calculates the percentage of total sales generated by the best-selling item in each country. This column will be formatted as a percentage with two decimal points. We'll then apply a background gradient to enhance the visualization of this information."
      ],
      "metadata": {
        "id": "GzcW-dTom2Sk"
      }
    },
    {
      "cell_type": "code",
      "source": [
        "joined_df[\"%_of_Country_Sales\"] = (joined_df[\"TotalSales\"] / joined_df[\"Country_Total_Sales\"])\n",
        "\n",
        "joined_df \\\n",
        ".style.background_gradient(cmap=sns.light_palette(\"seagreen\", as_cmap=True), \\\n",
        " subset=[\"%_of_Country_Sales\"]) \\\n",
        ".format({\"%_of_Country_Sales\":\"{:.2%}\",\n",
        "         \"TotalSales\":\"£{:,.0f}\",\n",
        "         \"Country_Total_Sales\":\"£{:,.0f}\"})"
      ],
      "metadata": {
        "id": "qCNsrWwA3--Z"
      },
      "execution_count": null,
      "outputs": []
    },
    {
      "cell_type": "markdown",
      "source": [
        "The plot uses a color gradient ranging from light to dark shades of green. Lighter shades represent lower percentages of country sales contribution, while darker shades indicate higher percentages."
      ],
      "metadata": {
        "id": "r21c4muYh6xI"
      }
    },
    {
      "cell_type": "markdown",
      "source": [
        "#Product having the most common best seller"
      ],
      "metadata": {
        "id": "gZvXhxnbm8oO"
      }
    },
    {
      "cell_type": "code",
      "source": [
        "pd.DataFrame(joined_df[\"Best_Selling_Product\"].value_counts()) \\\n",
        ".rename({\"Best_Selling_Product\":\"Best_Selling_Product_in_X_Countries\"},axis=1)"
      ],
      "metadata": {
        "id": "ZQDtNLnw4BUt"
      },
      "execution_count": null,
      "outputs": []
    },
    {
      "cell_type": "markdown",
      "source": [
        "We can determine the most successful products overall by examining their sales volume and average unit price. Products with relatively high quantities sold at relatively high prices are considered successful. This relationship can be visualized using a scatter plot, where the total quantity sold is plotted on the x-axis and the average unit price is plotted on the y-axis. Products with markers located in the north-east quadrant of the scatter plot indicate high quantities sold at high prices, indicating their success."
      ],
      "metadata": {
        "id": "xMj0XvgAnKIb"
      }
    },
    {
      "cell_type": "code",
      "source": [
        "products = data.groupby(\"Description\") \\\n",
        ".agg({\"Quantity\":\"sum\", \"UnitPrice\":\"mean\"}).reset_index()\n",
        "\n",
        "products = products[products[\"Description\"].isin([\"DOTCOM\",\"Manual\",\"Discount\"]) == False]\n",
        "\n",
        "products"
      ],
      "metadata": {
        "id": "cy_RZKBm4D4d"
      },
      "execution_count": null,
      "outputs": []
    },
    {
      "cell_type": "code",
      "source": [
        "import matplotlib.pyplot as plt\n",
        "import mplcursors\n",
        "\n",
        "plt.figure(figsize=(10, 6))\n",
        "scatter = plt.scatter(products[\"Quantity\"], products[\"UnitPrice\"], s=100, c=\"#1199cf\", label=\"Products\")\n",
        "plt.title(\"Products\", fontsize=20)\n",
        "plt.xlabel(\"Quantity Sold\", fontsize=14)\n",
        "plt.ylabel(\"Unit Price\", fontsize=14)\n",
        "plt.grid(True)\n",
        "plt.tight_layout()\n",
        "\n",
        "def hover(sel):\n",
        "    if sel.target.index is not None:\n",
        "        sel.annotation.set_text(products[\"Description\"][sel.target.index])\n",
        "\n",
        "mplcursors.cursor(hover=True).connect(\"add\", hover)\n",
        "\n",
        "plt.show()\n"
      ],
      "metadata": {
        "id": "vzfz1ii94GN_"
      },
      "execution_count": null,
      "outputs": []
    },
    {
      "cell_type": "markdown",
      "source": [
        "he x-axis shows the customer's first purchase amount in dollars. They x is shows the customer life time value in dollars. Customer lifetime value is a metric that estimates the total revenue a customer will generate over their relationship with the business.\n",
        "\n",
        "There appears to be a positive correlation between a customer's first purchase amount and their customer lifetime value. This means that customers who spend more money on their first purchase tend to also spend more money overall with the business. However, the scatter plot shows a significant amount of variability. There are many customers who made a large first purchase but have a low customer lifetime value, and vice versa."
      ],
      "metadata": {
        "id": "btBceRpSiMAD"
      }
    },
    {
      "cell_type": "markdown",
      "source": [
        "#Customers Contributed the Most to Total Sales\n",
        "\n"
      ],
      "metadata": {
        "id": "7WjNQceCnV1e"
      }
    },
    {
      "cell_type": "code",
      "source": [
        "cust_purchases = \\\n",
        "data.groupby(\"CustomerID\") \\\n",
        ".agg({\"InvoiceNo\": \"nunique\", \"ItemTotal\": \"sum\"}) \\\n",
        ".rename({\"ItemTotal\":\"TotalPurchases\",\"InvoiceNo\":\"Number_of_Orders\"},axis = 1) \\\n",
        ".sort_values(by = \"TotalPurchases\", ascending = False)\n",
        "\n",
        "cust_purchases.head(15)"
      ],
      "metadata": {
        "id": "VgscfYAP4Lw9"
      },
      "execution_count": null,
      "outputs": []
    },
    {
      "cell_type": "markdown",
      "source": [
        "**We can determine the contribution of each customer to the total sales figure as a percentage. This calculation involves dividing each customer's sales by the total sales and expressing it as a percentage. This analysis helps identify the proportion of sales contributed by each customer.**"
      ],
      "metadata": {
        "id": "eZOMWpbMnoXT"
      }
    },
    {
      "cell_type": "code",
      "source": [
        "cust_purchases[\"Percent_of_TotalSales\"] = (cust_purchases[\"TotalPurchases\"]/data[\"ItemTotal\"].sum()).map(\"{:.2%}\".format)\n",
        "cust_purchases[\"TotalPurchases\"] = cust_purchases[\"TotalPurchases\"].map(\"£{:,.0f}\".format)\n",
        "\n",
        "cust_purchases.head(15)"
      ],
      "metadata": {
        "id": "PWnW6-uu4Oi2"
      },
      "execution_count": null,
      "outputs": []
    },
    {
      "cell_type": "markdown",
      "source": [
        "##Thank you for taking the time to review my notebook!##"
      ],
      "metadata": {
        "id": "ddBoSfuLqNQb"
      }
    }
  ]
}